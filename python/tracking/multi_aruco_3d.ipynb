{
 "cells": [
  {
   "cell_type": "code",
   "execution_count": null,
   "metadata": {},
   "outputs": [],
   "source": [
    "import cv2\n",
    "import numpy as np\n",
    "import matplotlib.pyplot as plt\n",
    "import os\n",
    "from cv2 import aruco\n",
    "from cv2 import VideoCapture\n",
    "\n",
    "class CameraIntrinsics:\n",
    "    def __init__(self, matrix, distorsion):\n",
    "        self.matrix = matrix\n",
    "        self.distorsion = distorsion\n",
    "    def from_file(self, matlab_calib_file):\n",
    "        with open(matlab_calib_file, 'r') as f:\n",
    "            lines = f.readlines()\n",
    "            self.matrix = np.array([[float(x) for x in line.split()] for line in lines[2:6]])\n",
    "            self.distorsion = np.array([[float(x) for x in line.split()] for line in lines[7:8]]\n",
    "\n",
    "def track_through_frames(imgs: list, pattern=aruco.DICT_5X5_250, camera_intrinsics=CameraIntrinsics(None, None)) -> list:\n",
    "    results = []\n",
    "    for img in imgs:\n",
    "        res, _, _ = aruco_single(img, pattern, camera_intrinsics)\n",
    "        results.append(res)\n",
    "    return results\n",
    "\n",
    "\n",
    "def aruco_single(img, pattern=aruco.DICT_5X5_250, camera_intrinsics=CameraIntrinsics(None, None)):\n",
    "    corners, ids, rejectedImgPoints = aruco.detectMarkers(\n",
    "        img, \n",
    "        aruco.Dictionary_get(pattern),\n",
    "        parameters=aruco.DetectorParameters_create(),\n",
    "        matrix=camera_intrinsics.matrix,\n",
    "        distCoeff=camera_intrinsics.distorsion\n",
    "    )\n",
    "    if ids is not None:\n",
    "        rvecs, tvecs, _ = aruco.estimatePoseSingleMarkers(corners, 0.05, camera_intrinsics.matrix, camera_intrinsics.distorsion)\n",
    "        for i in range(len(ids)):\n",
    "            img = aruco.drawAxis(img, camera_intrinsics.matrix, camera_intrinsics.distorsion, rvecs[i], tvecs[i], 0.1)\n",
    "    return img, corners, ids\n"
   ]
  }
 ],
 "metadata": {
  "kernelspec": {
   "display_name": "imaging",
   "language": "python",
   "name": "python3"
  },
  "language_info": {
   "name": "python",
   "version": "3.11.5"
  }
 },
 "nbformat": 4,
 "nbformat_minor": 2
}
