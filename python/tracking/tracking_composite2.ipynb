{
 "cells": [
  {
   "cell_type": "code",
   "execution_count": 5,
   "metadata": {},
   "outputs": [],
   "source": [
    "import os\n",
    "import cv2\n",
    "import numpy as np\n",
    "from skimage.morphology import skeletonize\n",
    "\n",
    "def find_endpoint(skeleton):\n",
    "    connectivity = find_connectivity(skeleton)\n",
    "    # print(np.unique(connectivity, return_counts=True))\n",
    "    return np.argwhere(connectivity == 2)\n",
    "\n",
    "def find_connectivity(binary_image):\n",
    "    result = np.zeros_like(binary_image, dtype=np.uint8)\n",
    "    for [i, j] in np.argwhere(binary_image):\n",
    "        conn_count = 0\n",
    "        for ii in range(i-1, i+2):\n",
    "            for jj in range(j-1, j+2):\n",
    "                if binary_image[ii, jj]:\n",
    "                    conn_count += 1\n",
    "        result[i, j] = conn_count\n",
    "    return result\n",
    "\n",
    "def find_tips(image, boundary=0.1):\n",
    "    skeleton = skeletonize(image)\n",
    "    endpoints = find_endpoint(skeleton)\n",
    "    tips = []\n",
    "    for [i, j] in endpoints:\n",
    "        if i < boundary*image.shape[0] or i > (1-boundary)*image.shape[0] or j < boundary*image.shape[1] or j > (1-boundary)*image.shape[1]:\n",
    "            continue\n",
    "        tips.append((i, j))\n",
    "    return tips"
   ]
  },
  {
   "cell_type": "code",
   "execution_count": 11,
   "metadata": {},
   "outputs": [],
   "source": [
    "from tqdm import tqdm\n",
    "\n",
    "def composite(image: np.ndarray, mask: np.ndarray, endpoints: tuple, alpha=0.7, speed=None):\n",
    "    '''\n",
    "    Note that endpoint coordinates are in (y, x) format\n",
    "    '''\n",
    "    mask_bgr = cv2.cvtColor(mask, cv2.COLOR_GRAY2BGR)\n",
    "    mask_bgr = np.where(mask_bgr == (255, 255, 255), (0, 255, 0), mask_bgr).astype(np.uint8)\n",
    "    overlay = cv2.addWeighted(image, 1, mask_bgr, alpha, 0)\n",
    "    title = f\"Estimated tip position: {endpoints if len(endpoints) < 2 else 'Multi'}, Speed: \" + (\"None\" if speed is None else f\"{speed:.2f}\") + \" Pixel/s\"\n",
    "    cv2.putText(overlay, title , (40,40), cv2.FONT_HERSHEY_SIMPLEX, 1, (128, 0, 205), 2)\n",
    "    for endpoint in endpoints:\n",
    "        cv2.circle(overlay, (endpoint[1], endpoint[0]), 5, (128, 0, 245), -1)\n",
    "    return overlay\n"
   ]
  },
  {
   "cell_type": "code",
   "execution_count": 17,
   "metadata": {},
   "outputs": [
    {
     "name": "stderr",
     "output_type": "stream",
     "text": [
      "316it [00:29, 10.76it/s]\n"
     ]
    }
   ],
   "source": [
    "segmentation_folder = \"Data/Datasets/RigidModelVideo-11-21/11-21-1-clip2/outputs_f_t_100/segmentation/filled_5_pruned\"\n",
    "image_folder = \"Data/Datasets/RigidModelVideo-11-21/11-21-1-clip2\"\n",
    "output_folder = f\"{segmentation_folder}/composite\"\n",
    "if not os.path.exists(output_folder):\n",
    "    os.makedirs(output_folder)\n",
    "\n",
    "fps = 30\n",
    "\n",
    "last_tip = None\n",
    "last_index = -1\n",
    "for i, file in tqdm(enumerate(sorted(os.listdir(segmentation_folder)))):\n",
    "    if file.endswith(\".jpg\"):\n",
    "        segmentation = (cv2.imread(os.path.join(segmentation_folder, file), cv2.IMREAD_GRAYSCALE) > 10).astype(np.uint8) * 255 #deal with jpg compression artifacts\n",
    "        image = cv2.imread(os.path.join(image_folder, file))  \n",
    "        tips = find_tips(segmentation)\n",
    "        speed = None\n",
    "        if len(tips) == 1:\n",
    "            tip = tips[0]\n",
    "            if last_tip is not None:\n",
    "                speed = np.linalg.norm(np.array(tip) - np.array(last_tip)) * fps / (i - last_index)\n",
    "            last_tip = tip\n",
    "            last_index = i\n",
    "        cv2.imwrite(os.path.join(output_folder, file), composite(image, segmentation, tips, speed=speed))\n",
    "            "
   ]
  },
  {
   "cell_type": "code",
   "execution_count": 16,
   "metadata": {},
   "outputs": [
    {
     "name": "stderr",
     "output_type": "stream",
     "text": [
      "ffmpeg version 4.3 Copyright (c) 2000-2020 the FFmpeg developers\n",
      "  built with gcc 7.3.0 (crosstool-NG 1.23.0.449-a04d0)\n",
      "  configuration: --prefix=/opt/conda/conda-bld/ffmpeg_1597178665428/_h_env_placehold_placehold_placehold_placehold_placehold_placehold_placehold_placehold_placehold_placehold_placehold_placehold_placehold_placehold_placehold_placehold_placehold_placehold_placehold_placehold_placeh --cc=/opt/conda/conda-bld/ffmpeg_1597178665428/_build_env/bin/x86_64-conda_cos6-linux-gnu-cc --disable-doc --disable-openssl --enable-avresample --enable-gnutls --enable-hardcoded-tables --enable-libfreetype --enable-libopenh264 --enable-pic --enable-pthreads --enable-shared --disable-static --enable-version3 --enable-zlib --enable-libmp3lame\n",
      "  libavutil      56. 51.100 / 56. 51.100\n",
      "  libavcodec     58. 91.100 / 58. 91.100\n",
      "  libavformat    58. 45.100 / 58. 45.100\n",
      "  libavdevice    58. 10.100 / 58. 10.100\n",
      "  libavfilter     7. 85.100 /  7. 85.100\n",
      "  libavresample   4.  0.  0 /  4.  0.  0\n",
      "  libswscale      5.  7.100 /  5.  7.100\n",
      "  libswresample   3.  7.100 /  3.  7.100\n",
      "[image2 @ 0x55906ab4ed00] Could find no file with path '/mnt/e/Workspace/CathederTelesurgery/Data/Datasets/RigidModelVideo-11-21/11-21-1-clip2/outputs_f_t_100/segmentation/filled_5_pruned/composite/frame%04d.jpg' and index in the range 0-4\n",
      "/mnt/e/Workspace/CathederTelesurgery/Data/Datasets/RigidModelVideo-11-21/11-21-1-clip2/outputs_f_t_100/segmentation/filled_5_pruned/composite/frame%04d.jpg: No such file or directory\n"
     ]
    },
    {
     "data": {
      "text/plain": [
       "256"
      ]
     },
     "execution_count": 16,
     "metadata": {},
     "output_type": "execute_result"
    }
   ],
   "source": [
    "\n",
    "os.system(f\"ffmpeg -framerate 12 -start_number -i {os.getcwd()}/{output_folder}/frame%04d.jpg -r 15 -b:v 20M {os.getcwd()}/{output_folder}/composite.mp4\")"
   ]
  }
 ],
 "metadata": {
  "kernelspec": {
   "display_name": "imaging",
   "language": "python",
   "name": "python3"
  },
  "language_info": {
   "codemirror_mode": {
    "name": "ipython",
    "version": 3
   },
   "file_extension": ".py",
   "mimetype": "text/x-python",
   "name": "python",
   "nbconvert_exporter": "python",
   "pygments_lexer": "ipython3",
   "version": "3.11.5"
  }
 },
 "nbformat": 4,
 "nbformat_minor": 2
}
